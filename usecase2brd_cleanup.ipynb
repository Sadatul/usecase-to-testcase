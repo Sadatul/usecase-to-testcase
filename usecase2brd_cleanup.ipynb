{
 "cells": [
  {
   "cell_type": "markdown",
   "id": "a7bcb4f3-b540-4060-963e-f759cede5602",
   "metadata": {},
   "source": [
    "### Import Libraries"
   ]
  },
  {
   "cell_type": "code",
   "execution_count": 13,
   "id": "17477c58-01a7-49ba-b57f-c3050fe945f1",
   "metadata": {},
   "outputs": [],
   "source": [
    "import json\n",
    "import pandas as pd"
   ]
  },
  {
   "cell_type": "markdown",
   "id": "4b2718f4-ab9a-4ffe-9932-4c32a0e8077d",
   "metadata": {},
   "source": [
    "### Load Data from dataset"
   ]
  },
  {
   "cell_type": "code",
   "execution_count": 14,
   "id": "f14f4068-47cd-47f7-a77b-7e423e569043",
   "metadata": {},
   "outputs": [],
   "source": [
    "with open('usecase-testcase-dataset.json', 'r') as f:\n",
    "    data = json.load(f)"
   ]
  },
  {
   "cell_type": "markdown",
   "id": "827cbd8c-d308-4ce1-8b77-38c64d4c01ed",
   "metadata": {},
   "source": [
    "### Extract only the usecase part of the dataset"
   ]
  },
  {
   "cell_type": "code",
   "execution_count": 15,
   "id": "7c045332-a08f-4334-8449-37245591c75f",
   "metadata": {},
   "outputs": [],
   "source": [
    "usecases = [item['usecase'] for item in data]"
   ]
  },
  {
   "cell_type": "markdown",
   "id": "ba702047-fa0a-4a88-8304-223f2821f7dd",
   "metadata": {},
   "source": [
    "### Convert to Dataframe"
   ]
  },
  {
   "cell_type": "code",
   "execution_count": 16,
   "id": "54c5f404-6781-4ad1-b10b-493deb086b51",
   "metadata": {},
   "outputs": [],
   "source": [
    "df = pd.DataFrame(usecases)"
   ]
  },
  {
   "cell_type": "markdown",
   "id": "9a12ee81-6ad8-445d-9443-bfca2a47ca2c",
   "metadata": {},
   "source": [
    "### Handaling anomalies in the dataset.\n",
    "Merging the following fields\n",
    "* precondition and preconditions into preconditions\n",
    "* actors, Actors & actor into actors\n",
    "* title, name into name\n",
    "* scenerio, scenario, description into scenario"
   ]
  },
  {
   "cell_type": "code",
   "execution_count": 17,
   "id": "69d4f935-91e9-440a-a4ec-ba31eedc442b",
   "metadata": {},
   "outputs": [],
   "source": [
    "# -----------------------\n",
    "# 1. Handle 'precondition' vs 'preconditions'\n",
    "conflict_precond = df['precondition'].notna() & df['preconditions'].notna()\n",
    "df = df[~conflict_precond]\n",
    "df.loc[df['precondition'].notna() & df['preconditions'].isna(), 'preconditions'] = df['precondition']\n",
    "df = df.drop(columns=['precondition'], errors='ignore')\n",
    "\n",
    "# -----------------------\n",
    "# 2. Handle 'title' vs 'name'\n",
    "conflict_title = df['title'].notna() & df['name'].notna()\n",
    "df = df[~conflict_title]\n",
    "df.loc[df['title'].notna() & df['name'].isna(), 'name'] = df['title']\n",
    "df = df.drop(columns=['title'], errors='ignore')\n",
    "\n",
    "# -----------------------\n",
    "# 3. Handle 'scenerio' vs 'scenario'\n",
    "conflict_scenario = df['scenerio'].notna() & df['scenario'].notna()\n",
    "df = df[~conflict_scenario]\n",
    "df.loc[df['scenerio'].notna() & df['scenario'].isna(), 'scenario'] = df['scenerio']\n",
    "df = df.drop(columns=['scenerio'], errors='ignore')\n",
    "\n",
    "\n",
    "# -----------------------\n",
    "# 4. Handle 'description' vs 'scenario'\n",
    "conflict_scenario = df['description'].notna() & df['scenario'].notna()\n",
    "df = df[~conflict_scenario]\n",
    "df.loc[df['description'].notna() & df['scenario'].isna(), 'scenario'] = df['description']\n",
    "df = df.drop(columns=['description'], errors='ignore')\n",
    "\n",
    "# -----------------------\n",
    "# 5. Handle 'actor' vs 'actors'\n",
    "conflict_scenario = df['actor'].notna() & df['actors'].notna()\n",
    "df = df[~conflict_scenario]\n",
    "df.loc[df['actor'].notna() & df['actors'].isna(), 'actors'] = df['actor']\n",
    "df = df.drop(columns=['actor'], errors='ignore')\n",
    "\n",
    "# -----------------------\n",
    "# 6. Handle 'actors' vs 'Actors'\n",
    "conflict_scenario = df['actors'].notna() & df['Actors'].notna()\n",
    "df = df[~conflict_scenario]\n",
    "df.loc[df['Actors'].notna() & df['actors'].isna(), 'actors'] = df['Actors']\n",
    "df = df.drop(columns=['Actors'], errors='ignore')"
   ]
  },
  {
   "cell_type": "markdown",
   "id": "1fc6fc1e-a498-4faa-af57-bce50d87f258",
   "metadata": {},
   "source": [
    "### Drop some unwanted fields: 'author', 'id', 'author_student_id', 'postconditions'\n",
    "Only 9 rows had postconditions, hence the impact of it will be very insignificant"
   ]
  },
  {
   "cell_type": "code",
   "execution_count": 18,
   "id": "1971e0e6-6ed0-4b84-96b0-6c208bd5cc93",
   "metadata": {},
   "outputs": [],
   "source": [
    "df = df.drop(columns=['author', 'id', 'author_student_id', 'postconditions'], errors='ignore')"
   ]
  },
  {
   "cell_type": "markdown",
   "id": "454aa505-db01-49af-9b3b-54a698959f7b",
   "metadata": {},
   "source": [
    "### Clean and format steps\n",
    "Steps is an list. Convert it into a string with indexed step number"
   ]
  },
  {
   "cell_type": "code",
   "execution_count": 19,
   "id": "4868d3de-c324-4541-b901-fbdc4fe68823",
   "metadata": {},
   "outputs": [],
   "source": [
    "def format_steps(steps):\n",
    "    if isinstance(steps, list):\n",
    "        return \" \".join([f\"{i+1}: {step}\" for i, step in enumerate(steps)])\n",
    "    return \"\"\n",
    "\n",
    "df['steps'] = df['steps'].apply(format_steps)"
   ]
  },
  {
   "cell_type": "code",
   "execution_count": 20,
   "id": "6ae43452-13ae-4342-b6be-9a00f17d5300",
   "metadata": {},
   "outputs": [],
   "source": [
    "# # -----------------------\n",
    "# # 9. Normalize 'actors' field to always be a comma-separated string\n",
    "# def normalize_actors(actors):\n",
    "#     if isinstance(actors, list):\n",
    "#         return \", \".join(str(actor).strip() for actor in actors)\n",
    "#     elif isinstance(actors, str):\n",
    "#         return actors.strip()\n",
    "#     return \"\"\n",
    "\n",
    "# df['actors'] = df['actors'].apply(normalize_actors)"
   ]
  },
  {
   "cell_type": "markdown",
   "id": "936494e6-1465-445f-aa14-20e0116d9e34",
   "metadata": {},
   "source": [
    "### Finally Save the cleaned data"
   ]
  },
  {
   "cell_type": "code",
   "execution_count": 21,
   "id": "91cae322-2a8a-428f-8245-3c0f0e441f6b",
   "metadata": {},
   "outputs": [],
   "source": [
    "df.to_json('usecase2brd-dataset/cleaned_usecases.json', orient='records', indent=2)\n",
    "df.to_csv('usecase2brd-dataset/cleaned_usecases.csv', index=False)"
   ]
  }
 ],
 "metadata": {
  "kernelspec": {
   "display_name": "Python 3 (ipykernel)",
   "language": "python",
   "name": "python3"
  },
  "language_info": {
   "codemirror_mode": {
    "name": "ipython",
    "version": 3
   },
   "file_extension": ".py",
   "mimetype": "text/x-python",
   "name": "python",
   "nbconvert_exporter": "python",
   "pygments_lexer": "ipython3",
   "version": "3.12.2"
  }
 },
 "nbformat": 4,
 "nbformat_minor": 5
}
