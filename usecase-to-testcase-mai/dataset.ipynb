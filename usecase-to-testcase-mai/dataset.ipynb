{
 "cells": [
  {
   "cell_type": "markdown",
   "metadata": {},
   "source": [
    "# Combine everything into one array for indexing ease"
   ]
  },
  {
   "cell_type": "code",
   "execution_count": 1,
   "metadata": {},
   "outputs": [],
   "source": [
    "import glob as glob"
   ]
  },
  {
   "cell_type": "code",
   "execution_count": 2,
   "metadata": {},
   "outputs": [],
   "source": [
    "jsons = glob.glob(\"20_dataset/**/*.json\", recursive=True)"
   ]
  },
  {
   "cell_type": "code",
   "execution_count": 3,
   "metadata": {},
   "outputs": [
    {
     "data": {
      "text/plain": [
       "20"
      ]
     },
     "execution_count": 3,
     "metadata": {},
     "output_type": "execute_result"
    }
   ],
   "source": [
    "len(jsons)"
   ]
  },
  {
   "cell_type": "code",
   "execution_count": 4,
   "metadata": {},
   "outputs": [],
   "source": [
    "import json"
   ]
  },
  {
   "cell_type": "code",
   "execution_count": 5,
   "metadata": {},
   "outputs": [
    {
     "name": "stdout",
     "output_type": "stream",
     "text": [
      "20_dataset\\A1-1_Shohoz.json\n",
      "20_dataset\\A1-2_Splitwise.json\n",
      "20_dataset\\A1-3_Bikroy.com.json\n",
      "20_dataset\\A1-4_Notion.json\n",
      "20_dataset\\A1-5_Foodpanda.json\n",
      "20_dataset\\A2-1_tripadvisor.json\n",
      "20_dataset\\A2-2_Coursera.json\n",
      "20_dataset\\A2-3_Asana.json\n",
      "20_dataset\\A2-4_Uber.json\n",
      "20_dataset\\A2-5_Amazon.json\n",
      "20_dataset\\B1-1_Airbnb.json\n",
      "20_dataset\\B1-2_10minuteschool.json\n",
      "20_dataset\\B1-3_Todoist.json\n",
      "20_dataset\\B1-4_Daraz.json\n",
      "20_dataset\\B1-5_YNAB.json\n",
      "20_dataset\\B2-1_Rokomari.json\n",
      "20_dataset\\B2-2_GoZayaan.json\n",
      "20_dataset\\B2-3_eBay.json\n",
      "20_dataset\\B2-4_Trello.json\n",
      "20_dataset\\B2-5_shikho.json\n"
     ]
    }
   ],
   "source": [
    "dataset = []\n",
    "for file in jsons:\n",
    "    print(file)\n",
    "    with open(file, \"r\") as fp:\n",
    "        dataset.extend(json.load(fp))"
   ]
  },
  {
   "cell_type": "code",
   "execution_count": 8,
   "metadata": {},
   "outputs": [
    {
     "data": {
      "text/plain": [
       "299"
      ]
     },
     "execution_count": 8,
     "metadata": {},
     "output_type": "execute_result"
    }
   ],
   "source": [
    "len(dataset)"
   ]
  },
  {
   "cell_type": "code",
   "execution_count": 9,
   "metadata": {},
   "outputs": [],
   "source": [
    "# dataset2 = []\n",
    "# for i, data in enumerate(dataset):\n",
    "#     dataset2.append(json.dumps(data))\n",
    "#     # print(data)\n",
    "#     # print(json.dumps(data))\n",
    "#     # break"
   ]
  },
  {
   "cell_type": "code",
   "execution_count": 10,
   "metadata": {},
   "outputs": [
    {
     "data": {
      "text/plain": [
       "299"
      ]
     },
     "execution_count": 10,
     "metadata": {},
     "output_type": "execute_result"
    }
   ],
   "source": [
    "# len(dataset2)"
   ]
  },
  {
   "cell_type": "code",
   "execution_count": 11,
   "metadata": {},
   "outputs": [
    {
     "name": "stdout",
     "output_type": "stream",
     "text": [
      "{\"usecase\": {\"author\": \"Turjoy Dey\", \"id\": \"2005016\", \"name\": \"Event Search and Ticket Booking of Registered Users\", \"scenario\": \"A Registered User/Customer searches for an event and books tickets for a specified event.\", \"actor\": \"A Registered User/Customer\", \"preconditions\": \"The customer should be registered and logged in. Events must be available in the system.\", \"steps\": [\"Navigate to the Events page\", \"Search for an event using filters (event name, location, date)\", \"Select an event from the search results\", \"Select the number of tickets and seat type (if applicable)\", \"Proceed to checkout\", \"Confirm payment\", \"Receive booking confirmation\", \"View booking history\"], \"postconditions\": \"The customer successfully books tickets for the event and receives a confirmation message and can see details in booking history.\"}, \"testcases\": [{\"name\": \"Valid Event Search and Booking\", \"description\": \"Verify that a customer can successfully search for an event and book tickets.\", \"input\": {\"event\": \"Concert Nogorbaul\", \"location\": \"Dhaka\", \"date\": \"2024-10-30\", \"number_of_tickets\": 2}, \"expected\": {\"output\": \"Search results display the relevant event. Booking is successful for 2 tickets.\", \"status\": \"Approved\"}}, {\"name\": \"Search with Empty Event Name\", \"description\": \"Check the system response when the event name is not provided.\", \"input\": {\"event\": \"\", \"location\": \"Dhaka\", \"date\": \"2024-10-30\"}, \"expected\": {\"output\": \"System prompts the customer to enter an event name.\", \"status\": \"Rejected\"}}, {\"name\": \"Invalid Date Format\", \"description\": \"Test the response when the customer enters an invalid date format for event search.\", \"input\": {\"event\": \"Concert Nogorbaul\", \"location\": \"Dhaka\", \"date\": \"30/10/2024\"}, \"expected\": {\"output\": \"System shows an error indicating an invalid date format.\", \"status\": \"Rejected\"}}, {\"name\": \"No Events Found\", \"description\": \"Verify the system\\u2019s behavior when no events match the search criteria.\", \"input\": {\"event\": \"Nonexistent Event\", \"location\": \"Dhaka\", \"date\": \"2024-12-31\"}, \"expected\": {\"output\": \"System displays 'No events found for your search.'\", \"status\": \"Rejected\"}}, {\"name\": \"Apply Discount Code\", \"description\": \"Check if a customer can apply a valid discount code during the booking process.\", \"input\": {\"event\": \"Concert XYZ\", \"discount_code\": \"OCTOFFER\", \"number_of_tickets\": 2}, \"expected\": {\"output\": \"Discount code applied successfully and the total amount is updated.\", \"status\": \"Approved\"}}, {\"name\": \"Select Number of Tickets\", \"description\": \"Test the response when a valid number of tickets is selected for booking.\", \"input\": {\"event\": \"Concert Nogorbaul\", \"number_of_tickets\": 3}, \"expected\": {\"output\": \"System confirms that 3 tickets are available and proceeds to checkout.\", \"status\": \"Approved\"}}, {\"name\": \"Exceed Ticket Limit\", \"description\": \"Check the response when the customer tries to book more tickets than available.\", \"input\": {\"event\": \"Concert Nogorbaul\", \"number_of_tickets\": 10}, \"expected\": {\"output\": \"System shows 'Insufficient tickets available.'\", \"status\": \"Rejected\"}}, {\"name\": \"Payment Confirmation\", \"description\": \"Verify the payment process after selecting event tickets.\", \"input\": {\"event\": \"Concert Nogorbaul\", \"number_of_tickets\": 2, \"payment_method\": \"Valid credit card\"}, \"expected\": {\"output\": \"Payment is processed and a confirmation message is displayed: 'Payment successful. Your booking is confirmed.'\", \"status\": \"Approved\"}}, {\"name\": \"Invalid Payment Method\", \"description\": \"Check the system\\u2019s response when an invalid payment method is provided.\", \"input\": {\"event\": \"Concert Nogorbaul\", \"number_of_tickets\": 2, \"payment_method\": \"Invalid credit card\"}, \"expected\": {\"output\": \"System shows 'Invalid payment method.'\", \"status\": \"Rejected\"}}, {\"name\": \"Booking for Past Events\", \"description\": \"Verify that the customer cannot book tickets for past events.\", \"input\": {\"event\": \"Old Concert ABC\", \"location\": \"Dhaka\", \"date\": \"2023-09-15\"}, \"expected\": {\"output\": \"System shows an error: 'Tickets cannot be booked for past events.'\", \"status\": \"Rejected\"}}]}\n"
     ]
    }
   ],
   "source": [
    "# print(dataset2[1])"
   ]
  },
  {
   "cell_type": "code",
   "execution_count": null,
   "metadata": {},
   "outputs": [],
   "source": [
    "# with open(\"dataset-20.json\", \"w\") as fp:\n",
    "#     json.dump(dataset2, fp)"
   ]
  },
  {
   "cell_type": "code",
   "execution_count": 23,
   "metadata": {},
   "outputs": [],
   "source": [
    "from jsonl import write_jsonl\n",
    "\n",
    "write_jsonl('dataset/dataset-20.jsonl', dataset)"
   ]
  },
  {
   "cell_type": "code",
   "execution_count": 17,
   "metadata": {},
   "outputs": [],
   "source": [
    "# with open(\"dataset-20-50.json\", \"r\") as fp:\n",
    "#     test = json.load(fp)"
   ]
  },
  {
   "cell_type": "code",
   "execution_count": 18,
   "metadata": {},
   "outputs": [
    {
     "data": {
      "text/plain": [
       "50"
      ]
     },
     "execution_count": 18,
     "metadata": {},
     "output_type": "execute_result"
    }
   ],
   "source": [
    "# len(test)"
   ]
  },
  {
   "cell_type": "code",
   "execution_count": null,
   "metadata": {},
   "outputs": [],
   "source": []
  }
 ],
 "metadata": {
  "kernelspec": {
   "display_name": "u2t",
   "language": "python",
   "name": "python3"
  },
  "language_info": {
   "codemirror_mode": {
    "name": "ipython",
    "version": 3
   },
   "file_extension": ".py",
   "mimetype": "text/x-python",
   "name": "python",
   "nbconvert_exporter": "python",
   "pygments_lexer": "ipython3",
   "version": "3.11.10"
  }
 },
 "nbformat": 4,
 "nbformat_minor": 2
}
