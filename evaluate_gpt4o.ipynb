{
 "cells": [
  {
   "cell_type": "markdown",
   "metadata": {},
   "source": [
    "# We will be removing the keys from the json objects, as they might impact the score."
   ]
  },
  {
   "cell_type": "code",
   "execution_count": null,
   "metadata": {},
   "outputs": [],
   "source": [
    "import pandas as pd"
   ]
  },
  {
   "cell_type": "code",
   "execution_count": null,
   "metadata": {},
   "outputs": [],
   "source": [
    "human_responses = []\n",
    "gpt_responses = []"
   ]
  },
  {
   "cell_type": "code",
   "execution_count": null,
   "metadata": {},
   "outputs": [],
   "source": [
    "import json\n",
    "with open(\"GPT-4o-results/GPT4o-results-19.jsonl\", \"r\") as fp:\n",
    "\tfor line in fp.readlines():\n",
    "\t\thuman_responses.append({\"testcases\": json.loads(line)[\"testcases\"]})\n",
    "\t\tgpt_responses.append({\"testcases\": json.loads(line)[\"GPT4o_testcases\"]})"
   ]
  },
  {
   "cell_type": "code",
   "execution_count": null,
   "metadata": {},
   "outputs": [],
   "source": [
    "print(human_responses[0])\n",
    "print(gpt_responses[0])"
   ]
  },
  {
   "cell_type": "code",
   "execution_count": null,
   "metadata": {},
   "outputs": [],
   "source": [
    "with open(\"GPT-4o-results/GPT4o-results-20.jsonl\", \"r\") as fp:\n",
    "\tfor line in fp.readlines():\n",
    "\t\thuman_responses.append({\"testcases\": json.loads(line)[\"testcases\"]})\n",
    "\t\tgpt_responses.append({\"testcases\": json.loads(line)[\"GPT4o_testcases\"]})"
   ]
  },
  {
   "cell_type": "code",
   "execution_count": null,
   "metadata": {},
   "outputs": [],
   "source": [
    "print(len(human_responses))\n",
    "print(len(gpt_responses))"
   ]
  },
  {
   "cell_type": "markdown",
   "metadata": {},
   "source": [
    "# Remove fixed keys"
   ]
  },
  {
   "cell_type": "code",
   "execution_count": null,
   "metadata": {},
   "outputs": [],
   "source": [
    "def remove_keys(d):\n",
    "    \"\"\"\n",
    "    remove all first level keys from d, convert it to a string\n",
    "    \"\"\"\n",
    "    return str(list(d.values()))[1:-1]"
   ]
  },
  {
   "cell_type": "code",
   "execution_count": null,
   "metadata": {},
   "outputs": [],
   "source": [
    "for idx, tcs in enumerate(human_responses):\n",
    "\tnew_tcs = []\n",
    "\tif not isinstance(tcs[\"testcases\"], list):\n",
    "\t\ttcs[\"testcases\"] = [tcs[\"testcases\"]]\n",
    "\tfor tc in tcs[\"testcases\"]:\n",
    "\t\tnew_tcs.append(remove_keys(tc))\n",
    "\t# break\n",
    "\thuman_responses[idx] = \"; \".join(new_tcs)"
   ]
  },
  {
   "cell_type": "code",
   "execution_count": null,
   "metadata": {},
   "outputs": [],
   "source": [
    "for idx, tcs in enumerate(gpt_responses):\n",
    "\tnew_tcs = []\n",
    "\tif not isinstance(tcs[\"testcases\"], list):\n",
    "\t\ttcs[\"testcases\"] = [tcs[\"testcases\"]]\n",
    "\tfor tc in tcs[\"testcases\"]:\n",
    "\t\tnew_tcs.append(remove_keys(tc))\n",
    "\t# break\n",
    "\tgpt_responses[idx] = \"; \".join(new_tcs)"
   ]
  },
  {
   "cell_type": "code",
   "execution_count": null,
   "metadata": {},
   "outputs": [],
   "source": [
    "print(human_responses[0])\n",
    "print(gpt_responses[0])"
   ]
  },
  {
   "cell_type": "code",
   "execution_count": null,
   "metadata": {},
   "outputs": [],
   "source": [
    "scores = {}"
   ]
  },
  {
   "cell_type": "code",
   "execution_count": null,
   "metadata": {},
   "outputs": [],
   "source": [
    "import evaluate\n",
    "\n",
    "rouge = evaluate.load(\"rouge\")\n",
    "\t\n",
    "scores[\"rouge\"] = rouge.compute(predictions=gpt_responses, references=human_responses)\n",
    "\n",
    "print(f\"Finetuned scores: {scores[\"rouge\"]}\")"
   ]
  },
  {
   "cell_type": "code",
   "execution_count": null,
   "metadata": {},
   "outputs": [],
   "source": [
    "import evaluate\n",
    "\n",
    "bleu = evaluate.load(\"bleu\")\n",
    "\t\n",
    "scores[\"blue\"] = bleu.compute(predictions=gpt_responses, references=human_responses)\n",
    "\n",
    "print(f\"Finetuned scores: {scores[\"blue\"]}\")"
   ]
  },
  {
   "cell_type": "code",
   "execution_count": null,
   "metadata": {},
   "outputs": [],
   "source": [
    "import evaluate\n",
    "\n",
    "bert = evaluate.load(\"bertscore\")\n",
    "\t\n",
    "scores[\"bert\"] = bert.compute(predictions=gpt_responses, references=human_responses, lang=\"en\")\n",
    "\n",
    "print(f\"Finetuned scores: {scores[\"bert\"]}\")"
   ]
  },
  {
   "cell_type": "code",
   "execution_count": null,
   "metadata": {},
   "outputs": [],
   "source": [
    "scores[\"bert\"].keys()"
   ]
  },
  {
   "cell_type": "code",
   "execution_count": null,
   "metadata": {},
   "outputs": [],
   "source": [
    "import numpy as np\n",
    "\n",
    "print(np.mean(scores[\"bert\"][\"precision\"]))\n",
    "print(np.mean(scores[\"bert\"][\"recall\"]))\n",
    "print(np.mean(scores[\"bert\"][\"f1\"]))"
   ]
  },
  {
   "cell_type": "code",
   "execution_count": null,
   "metadata": {},
   "outputs": [],
   "source": [
    "scores[\"bert\"][\"precision\"] = np.mean(scores[\"bert\"][\"precision\"])\n",
    "scores[\"bert\"][\"recall\"] = np.mean(scores[\"bert\"][\"recall\"])\n",
    "scores[\"bert\"][\"f1\"] = np.mean(scores[\"bert\"][\"f1\"])"
   ]
  },
  {
   "cell_type": "code",
   "execution_count": null,
   "metadata": {},
   "outputs": [],
   "source": [
    "import json\n",
    "with open(f\"gpt4o_scores_final_fixed.json\", \"w\") as fp:\n",
    "\tjson.dump(scores, fp)"
   ]
  },
  {
   "cell_type": "code",
   "execution_count": null,
   "metadata": {},
   "outputs": [],
   "source": []
  }
 ],
 "metadata": {
  "kernelspec": {
   "display_name": "usecase",
   "language": "python",
   "name": "python3"
  },
  "language_info": {
   "codemirror_mode": {
    "name": "ipython",
    "version": 3
   },
   "file_extension": ".py",
   "mimetype": "text/x-python",
   "name": "python",
   "nbconvert_exporter": "python",
   "pygments_lexer": "ipython3",
   "version": "3.12.2"
  }
 },
 "nbformat": 4,
 "nbformat_minor": 2
}
